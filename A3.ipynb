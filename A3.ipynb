{
 "cells": [
  {
   "cell_type": "markdown",
   "metadata": {},
   "source": [
    "# Install and import dependencies"
   ]
  },
  {
   "cell_type": "code",
   "execution_count": null,
   "metadata": {},
   "outputs": [],
   "source": [
    "%pip install pandas scikit-learn numpy matplotlib scipy imageio\n",
    "import pandas as pd\n",
    "import sklearn as sk\n",
    "import numpy as np\n",
    "import matplotlib as mt\n",
    "import scipy as sp\n"
   ]
  },
  {
   "cell_type": "markdown",
   "metadata": {},
   "source": [
    "# Eigenface for face recognition"
   ]
  },
  {
   "cell_type": "markdown",
   "metadata": {},
   "source": [
    "## Extract dataset"
   ]
  },
  {
   "cell_type": "code",
   "execution_count": null,
   "metadata": {},
   "outputs": [],
   "source": [
    "from zipfile import ZipFile\n",
    "\n",
    "# Load the zip file and create a zip object\n",
    "with ZipFile(\"./faces.zip\", 'r') as zip_ref:\n",
    "    # Extract all the files present in the zip to a specific location\n",
    "    zip_ref.extractall(\"./\")"
   ]
  },
  {
   "cell_type": "markdown",
   "metadata": {},
   "source": [
    "## Create Train and Test Datasets"
   ]
  },
  {
   "cell_type": "code",
   "execution_count": 19,
   "metadata": {},
   "outputs": [
    {
     "data": {
      "text/html": [
       "<div>\n",
       "<style scoped>\n",
       "    .dataframe tbody tr th:only-of-type {\n",
       "        vertical-align: middle;\n",
       "    }\n",
       "\n",
       "    .dataframe tbody tr th {\n",
       "        vertical-align: top;\n",
       "    }\n",
       "\n",
       "    .dataframe thead th {\n",
       "        text-align: right;\n",
       "    }\n",
       "</style>\n",
       "<table border=\"1\" class=\"dataframe\">\n",
       "  <thead>\n",
       "    <tr style=\"text-align: right;\">\n",
       "      <th></th>\n",
       "      <th>image_path</th>\n",
       "      <th>label</th>\n",
       "    </tr>\n",
       "  </thead>\n",
       "  <tbody>\n",
       "    <tr>\n",
       "      <th>0</th>\n",
       "      <td>./faces/images/person01_63.png</td>\n",
       "      <td>1</td>\n",
       "    </tr>\n",
       "    <tr>\n",
       "      <th>1</th>\n",
       "      <td>./faces/images/person01_14.png</td>\n",
       "      <td>1</td>\n",
       "    </tr>\n",
       "    <tr>\n",
       "      <th>2</th>\n",
       "      <td>./faces/images/person01_09.png</td>\n",
       "      <td>1</td>\n",
       "    </tr>\n",
       "    <tr>\n",
       "      <th>3</th>\n",
       "      <td>./faces/images/person01_05.png</td>\n",
       "      <td>1</td>\n",
       "    </tr>\n",
       "    <tr>\n",
       "      <th>4</th>\n",
       "      <td>./faces/images/person01_01.png</td>\n",
       "      <td>1</td>\n",
       "    </tr>\n",
       "    <tr>\n",
       "      <th>...</th>\n",
       "      <td>...</td>\n",
       "      <td>...</td>\n",
       "    </tr>\n",
       "    <tr>\n",
       "      <th>535</th>\n",
       "      <td>./faces/images/person10_33.png</td>\n",
       "      <td>10</td>\n",
       "    </tr>\n",
       "    <tr>\n",
       "      <th>536</th>\n",
       "      <td>./faces/images/person10_46.png</td>\n",
       "      <td>10</td>\n",
       "    </tr>\n",
       "    <tr>\n",
       "      <th>537</th>\n",
       "      <td>./faces/images/person10_19.png</td>\n",
       "      <td>10</td>\n",
       "    </tr>\n",
       "    <tr>\n",
       "      <th>538</th>\n",
       "      <td>./faces/images/person10_64.png</td>\n",
       "      <td>10</td>\n",
       "    </tr>\n",
       "    <tr>\n",
       "      <th>539</th>\n",
       "      <td>./faces/images/person10_31.png</td>\n",
       "      <td>10</td>\n",
       "    </tr>\n",
       "  </tbody>\n",
       "</table>\n",
       "<p>540 rows × 2 columns</p>\n",
       "</div>"
      ],
      "text/plain": [
       "                         image_path  label\n",
       "0    ./faces/images/person01_63.png      1\n",
       "1    ./faces/images/person01_14.png      1\n",
       "2    ./faces/images/person01_09.png      1\n",
       "3    ./faces/images/person01_05.png      1\n",
       "4    ./faces/images/person01_01.png      1\n",
       "..                              ...    ...\n",
       "535  ./faces/images/person10_33.png     10\n",
       "536  ./faces/images/person10_46.png     10\n",
       "537  ./faces/images/person10_19.png     10\n",
       "538  ./faces/images/person10_64.png     10\n",
       "539  ./faces/images/person10_31.png     10\n",
       "\n",
       "[540 rows x 2 columns]"
      ]
     },
     "execution_count": 19,
     "metadata": {},
     "output_type": "execute_result"
    }
   ],
   "source": [
    "import pandas as pd\n",
    "train_df = pd.read_csv(\"./faces/train.txt\", delimiter=\" \", names=[\"image_path\", \"label\"], engine=\"python\")\n",
    "train_df"
   ]
  },
  {
   "cell_type": "code",
   "execution_count": null,
   "metadata": {},
   "outputs": [],
   "source": [
    "import numpy as np\n",
    "import imageio\n",
    "from matplotlib import pylab as plt\n",
    "import matplotlib.cm as cm\n",
    "%matplotlib inline\n",
    "\n",
    "train_labels, train_data = [], []\n",
    "test_labels, test_data = [], []\n",
    "\n",
    "# Open the training data file\n",
    "for line in open('./faces/train.txt'):\n",
    "    # Read the image\n",
    "    im = imageio.imread(line.strip().split()[0])\n",
    "    \n",
    "    # Reshape the image to 2500-dimensional vector and append to data\n",
    "    train_data.append(im.reshape(2500,))\n",
    "    \n",
    "    # Append the label\n",
    "    train_labels.append(line.strip().split()[1])\n",
    "\n",
    "# Convert the lists to numpy arrays\n",
    "train_data = np.array(train_data, dtype=float)\n",
    "train_labels = np.array(train_labels, dtype=int)\n",
    "\n",
    "# Print the shapes of the data and labels\n",
    "print(train_data.shape, train_labels.shape)\n",
    "\n",
    "# Test dataset\n",
    "plt.imshow(train_data[10, :].reshape(50, 50), cmap=cm.Greys_r)\n",
    "plt.show()"
   ]
  },
  {
   "cell_type": "code",
   "execution_count": null,
   "metadata": {},
   "outputs": [],
   "source": [
    "# Open the training data file\n",
    "for line in open('./faces/test.txt'):\n",
    "    # Read the image\n",
    "    im = imageio.imread(line.strip().split()[0])\n",
    "    \n",
    "    # Reshape the image to 2500-dimensional vector and append to data\n",
    "    test_data.append(im.reshape(2500,))\n",
    "    \n",
    "    # Append the label\n",
    "    test_labels.append(line.strip().split()[1])\n",
    "\n",
    "# Convert the lists to numpy arrays -------\n",
    "test_data = np.array(test_data, dtype=float)\n",
    "test_labels = np.array(test_labels, dtype=int)\n",
    "\n",
    "# Print the shapes of the data and labels\n",
    "print(test_data.shape, test_labels.shape)\n",
    "\n",
    "# Test dataset\n",
    "plt.imshow(test_data[10, :].reshape(50, 50), cmap=cm.Greys_r)\n",
    "plt.show()"
   ]
  }
 ],
 "metadata": {
  "kernelspec": {
   "display_name": ".venv",
   "language": "python",
   "name": "python3"
  },
  "language_info": {
   "codemirror_mode": {
    "name": "ipython",
    "version": 3
   },
   "file_extension": ".py",
   "mimetype": "text/x-python",
   "name": "python",
   "nbconvert_exporter": "python",
   "pygments_lexer": "ipython3",
   "version": "3.13.2"
  }
 },
 "nbformat": 4,
 "nbformat_minor": 2
}
